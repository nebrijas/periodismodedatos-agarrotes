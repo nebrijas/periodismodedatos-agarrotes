{
 "cells": [
  {
   "cell_type": "markdown",
   "id": "b3045bda",
   "metadata": {},
   "source": [
    "# API Pandas Folium\n",
    "- API\n",
    "- Pandas\n",
    "- Folium, mapas"
   ]
  },
  {
   "cell_type": "markdown",
   "id": "34a18542",
   "metadata": {},
   "source": [
    "## Instalar librerías"
   ]
  },
  {
   "cell_type": "code",
   "execution_count": 3,
   "id": "596d2df0",
   "metadata": {},
   "outputs": [
    {
     "name": "stdout",
     "output_type": "stream",
     "text": [
      "Requirement already satisfied: pandas in c:\\programdata\\anaconda3\\lib\\site-packages (1.2.4)\n",
      "Collecting folium\n",
      "  Downloading folium-0.12.1.post1-py2.py3-none-any.whl (95 kB)\n",
      "Requirement already satisfied: requests in c:\\programdata\\anaconda3\\lib\\site-packages (from folium) (2.25.1)\n",
      "Collecting branca>=0.3.0\n",
      "  Downloading branca-0.4.2-py3-none-any.whl (24 kB)\n",
      "Requirement already satisfied: jinja2>=2.9 in c:\\programdata\\anaconda3\\lib\\site-packages (from folium) (2.11.3)\n",
      "Requirement already satisfied: numpy in c:\\programdata\\anaconda3\\lib\\site-packages (from folium) (1.20.1)\n",
      "Requirement already satisfied: MarkupSafe>=0.23 in c:\\programdata\\anaconda3\\lib\\site-packages (from jinja2>=2.9->folium) (1.1.1)\n",
      "Requirement already satisfied: python-dateutil>=2.7.3 in c:\\programdata\\anaconda3\\lib\\site-packages (from pandas) (2.8.1)\n",
      "Requirement already satisfied: pytz>=2017.3 in c:\\programdata\\anaconda3\\lib\\site-packages (from pandas) (2021.1)\n",
      "Requirement already satisfied: six>=1.5 in c:\\programdata\\anaconda3\\lib\\site-packages (from python-dateutil>=2.7.3->pandas) (1.15.0)\n",
      "Requirement already satisfied: urllib3<1.27,>=1.21.1 in c:\\programdata\\anaconda3\\lib\\site-packages (from requests->folium) (1.26.4)\n",
      "Requirement already satisfied: idna<3,>=2.5 in c:\\programdata\\anaconda3\\lib\\site-packages (from requests->folium) (2.10)\n",
      "Requirement already satisfied: certifi>=2017.4.17 in c:\\programdata\\anaconda3\\lib\\site-packages (from requests->folium) (2020.12.5)\n",
      "Requirement already satisfied: chardet<5,>=3.0.2 in c:\\programdata\\anaconda3\\lib\\site-packages (from requests->folium) (4.0.0)\n",
      "Installing collected packages: branca, folium\n",
      "Successfully installed branca-0.4.2 folium-0.12.1.post1\n"
     ]
    }
   ],
   "source": [
    "!pip install pandas folium"
   ]
  },
  {
   "cell_type": "markdown",
   "id": "46d6ceaf",
   "metadata": {},
   "source": [
    "## Configurar librerías"
   ]
  },
  {
   "cell_type": "code",
   "execution_count": 4,
   "id": "b5ac6f2c",
   "metadata": {},
   "outputs": [],
   "source": [
    "import pandas as pd\n",
    "import folium"
   ]
  },
  {
   "cell_type": "markdown",
   "id": "0ea41dd9",
   "metadata": {},
   "source": [
    "## Variables\n",
    "- url\n",
    "- coords_zrgz: [41.649693,-0.887712]\n",
    "- mapa (realmente es un objeto)"
   ]
  },
  {
   "cell_type": "code",
   "execution_count": 5,
   "id": "0e469838",
   "metadata": {},
   "outputs": [],
   "source": [
    "url = 'https://www.zaragoza.es/sede/servicio/transporte/accidentalidad-trafico/accidente.csv?rows=100'\n",
    "coords_zrgz = [41.649693,-0.887712]\n",
    "mapa = folium.Map(location=coords_zrgz)"
   ]
  },
  {
   "cell_type": "code",
   "execution_count": 11,
   "id": "1d6af819",
   "metadata": {},
   "outputs": [
    {
     "data": {
      "text/html": [
       "<div style=\"width:100%;\"><div style=\"position:relative;width:100%;height:0;padding-bottom:60%;\"><span style=\"color:#565656\">Make this Notebook Trusted to load map: File -> Trust Notebook</span><iframe src=\"about:blank\" style=\"position:absolute;width:100%;height:100%;left:0;top:0;border:none !important;\" data-html=%3C%21DOCTYPE%20html%3E%0A%3Chead%3E%20%20%20%20%0A%20%20%20%20%3Cmeta%20http-equiv%3D%22content-type%22%20content%3D%22text/html%3B%20charset%3DUTF-8%22%20/%3E%0A%20%20%20%20%0A%20%20%20%20%20%20%20%20%3Cscript%3E%0A%20%20%20%20%20%20%20%20%20%20%20%20L_NO_TOUCH%20%3D%20false%3B%0A%20%20%20%20%20%20%20%20%20%20%20%20L_DISABLE_3D%20%3D%20false%3B%0A%20%20%20%20%20%20%20%20%3C/script%3E%0A%20%20%20%20%0A%20%20%20%20%3Cstyle%3Ehtml%2C%20body%20%7Bwidth%3A%20100%25%3Bheight%3A%20100%25%3Bmargin%3A%200%3Bpadding%3A%200%3B%7D%3C/style%3E%0A%20%20%20%20%3Cstyle%3E%23map%20%7Bposition%3Aabsolute%3Btop%3A0%3Bbottom%3A0%3Bright%3A0%3Bleft%3A0%3B%7D%3C/style%3E%0A%20%20%20%20%3Cscript%20src%3D%22https%3A//cdn.jsdelivr.net/npm/leaflet%401.6.0/dist/leaflet.js%22%3E%3C/script%3E%0A%20%20%20%20%3Cscript%20src%3D%22https%3A//code.jquery.com/jquery-1.12.4.min.js%22%3E%3C/script%3E%0A%20%20%20%20%3Cscript%20src%3D%22https%3A//maxcdn.bootstrapcdn.com/bootstrap/3.2.0/js/bootstrap.min.js%22%3E%3C/script%3E%0A%20%20%20%20%3Cscript%20src%3D%22https%3A//cdnjs.cloudflare.com/ajax/libs/Leaflet.awesome-markers/2.0.2/leaflet.awesome-markers.js%22%3E%3C/script%3E%0A%20%20%20%20%3Clink%20rel%3D%22stylesheet%22%20href%3D%22https%3A//cdn.jsdelivr.net/npm/leaflet%401.6.0/dist/leaflet.css%22/%3E%0A%20%20%20%20%3Clink%20rel%3D%22stylesheet%22%20href%3D%22https%3A//maxcdn.bootstrapcdn.com/bootstrap/3.2.0/css/bootstrap.min.css%22/%3E%0A%20%20%20%20%3Clink%20rel%3D%22stylesheet%22%20href%3D%22https%3A//maxcdn.bootstrapcdn.com/bootstrap/3.2.0/css/bootstrap-theme.min.css%22/%3E%0A%20%20%20%20%3Clink%20rel%3D%22stylesheet%22%20href%3D%22https%3A//maxcdn.bootstrapcdn.com/font-awesome/4.6.3/css/font-awesome.min.css%22/%3E%0A%20%20%20%20%3Clink%20rel%3D%22stylesheet%22%20href%3D%22https%3A//cdnjs.cloudflare.com/ajax/libs/Leaflet.awesome-markers/2.0.2/leaflet.awesome-markers.css%22/%3E%0A%20%20%20%20%3Clink%20rel%3D%22stylesheet%22%20href%3D%22https%3A//cdn.jsdelivr.net/gh/python-visualization/folium/folium/templates/leaflet.awesome.rotate.min.css%22/%3E%0A%20%20%20%20%0A%20%20%20%20%20%20%20%20%20%20%20%20%3Cmeta%20name%3D%22viewport%22%20content%3D%22width%3Ddevice-width%2C%0A%20%20%20%20%20%20%20%20%20%20%20%20%20%20%20%20initial-scale%3D1.0%2C%20maximum-scale%3D1.0%2C%20user-scalable%3Dno%22%20/%3E%0A%20%20%20%20%20%20%20%20%20%20%20%20%3Cstyle%3E%0A%20%20%20%20%20%20%20%20%20%20%20%20%20%20%20%20%23map_1627522f42834324bad9e705ffb466a8%20%7B%0A%20%20%20%20%20%20%20%20%20%20%20%20%20%20%20%20%20%20%20%20position%3A%20relative%3B%0A%20%20%20%20%20%20%20%20%20%20%20%20%20%20%20%20%20%20%20%20width%3A%20100.0%25%3B%0A%20%20%20%20%20%20%20%20%20%20%20%20%20%20%20%20%20%20%20%20height%3A%20100.0%25%3B%0A%20%20%20%20%20%20%20%20%20%20%20%20%20%20%20%20%20%20%20%20left%3A%200.0%25%3B%0A%20%20%20%20%20%20%20%20%20%20%20%20%20%20%20%20%20%20%20%20top%3A%200.0%25%3B%0A%20%20%20%20%20%20%20%20%20%20%20%20%20%20%20%20%7D%0A%20%20%20%20%20%20%20%20%20%20%20%20%3C/style%3E%0A%20%20%20%20%20%20%20%20%0A%3C/head%3E%0A%3Cbody%3E%20%20%20%20%0A%20%20%20%20%0A%20%20%20%20%20%20%20%20%20%20%20%20%3Cdiv%20class%3D%22folium-map%22%20id%3D%22map_1627522f42834324bad9e705ffb466a8%22%20%3E%3C/div%3E%0A%20%20%20%20%20%20%20%20%0A%3C/body%3E%0A%3Cscript%3E%20%20%20%20%0A%20%20%20%20%0A%20%20%20%20%20%20%20%20%20%20%20%20var%20map_1627522f42834324bad9e705ffb466a8%20%3D%20L.map%28%0A%20%20%20%20%20%20%20%20%20%20%20%20%20%20%20%20%22map_1627522f42834324bad9e705ffb466a8%22%2C%0A%20%20%20%20%20%20%20%20%20%20%20%20%20%20%20%20%7B%0A%20%20%20%20%20%20%20%20%20%20%20%20%20%20%20%20%20%20%20%20center%3A%20%5B41.649693%2C%20-0.887712%5D%2C%0A%20%20%20%20%20%20%20%20%20%20%20%20%20%20%20%20%20%20%20%20crs%3A%20L.CRS.EPSG3857%2C%0A%20%20%20%20%20%20%20%20%20%20%20%20%20%20%20%20%20%20%20%20zoom%3A%2010%2C%0A%20%20%20%20%20%20%20%20%20%20%20%20%20%20%20%20%20%20%20%20zoomControl%3A%20true%2C%0A%20%20%20%20%20%20%20%20%20%20%20%20%20%20%20%20%20%20%20%20preferCanvas%3A%20false%2C%0A%20%20%20%20%20%20%20%20%20%20%20%20%20%20%20%20%7D%0A%20%20%20%20%20%20%20%20%20%20%20%20%29%3B%0A%0A%20%20%20%20%20%20%20%20%20%20%20%20%0A%0A%20%20%20%20%20%20%20%20%0A%20%20%20%20%0A%20%20%20%20%20%20%20%20%20%20%20%20var%20tile_layer_d30b273e9fa8435cb5178e91c8cb6e69%20%3D%20L.tileLayer%28%0A%20%20%20%20%20%20%20%20%20%20%20%20%20%20%20%20%22https%3A//%7Bs%7D.tile.openstreetmap.org/%7Bz%7D/%7Bx%7D/%7By%7D.png%22%2C%0A%20%20%20%20%20%20%20%20%20%20%20%20%20%20%20%20%7B%22attribution%22%3A%20%22Data%20by%20%5Cu0026copy%3B%20%5Cu003ca%20href%3D%5C%22http%3A//openstreetmap.org%5C%22%5Cu003eOpenStreetMap%5Cu003c/a%5Cu003e%2C%20under%20%5Cu003ca%20href%3D%5C%22http%3A//www.openstreetmap.org/copyright%5C%22%5Cu003eODbL%5Cu003c/a%5Cu003e.%22%2C%20%22detectRetina%22%3A%20false%2C%20%22maxNativeZoom%22%3A%2018%2C%20%22maxZoom%22%3A%2018%2C%20%22minZoom%22%3A%200%2C%20%22noWrap%22%3A%20false%2C%20%22opacity%22%3A%201%2C%20%22subdomains%22%3A%20%22abc%22%2C%20%22tms%22%3A%20false%7D%0A%20%20%20%20%20%20%20%20%20%20%20%20%29.addTo%28map_1627522f42834324bad9e705ffb466a8%29%3B%0A%20%20%20%20%20%20%20%20%0A%3C/script%3E onload=\"this.contentDocument.open();this.contentDocument.write(    decodeURIComponent(this.getAttribute('data-html')));this.contentDocument.close();\" allowfullscreen webkitallowfullscreen mozallowfullscreen></iframe></div></div>"
      ],
      "text/plain": [
       "<folium.folium.Map at 0x29e6dae0d00>"
      ]
     },
     "execution_count": 11,
     "metadata": {},
     "output_type": "execute_result"
    }
   ],
   "source": [
    "mapa"
   ]
  },
  {
   "cell_type": "code",
   "execution_count": 12,
   "id": "8ee1895c",
   "metadata": {},
   "outputs": [
    {
     "data": {
      "text/html": [
       "<div>\n",
       "<style scoped>\n",
       "    .dataframe tbody tr th:only-of-type {\n",
       "        vertical-align: middle;\n",
       "    }\n",
       "\n",
       "    .dataframe tbody tr th {\n",
       "        vertical-align: top;\n",
       "    }\n",
       "\n",
       "    .dataframe thead th {\n",
       "        text-align: right;\n",
       "    }\n",
       "</style>\n",
       "<table border=\"1\" class=\"dataframe\">\n",
       "  <thead>\n",
       "    <tr style=\"text-align: right;\">\n",
       "      <th></th>\n",
       "      <th>id</th>\n",
       "      <th>year</th>\n",
       "      <th>type</th>\n",
       "      <th>accidentType</th>\n",
       "      <th>firstAddress</th>\n",
       "      <th>secondAddress</th>\n",
       "      <th>geometry</th>\n",
       "      <th>reason</th>\n",
       "      <th>area</th>\n",
       "      <th>creationDate</th>\n",
       "      <th>daniosMateriales</th>\n",
       "      <th>falloMecanico</th>\n",
       "      <th>estadoPavimento</th>\n",
       "      <th>tipoEstadoPavimento</th>\n",
       "      <th>estadoAtmosfera</th>\n",
       "      <th>tipoEstadoAtmosfera</th>\n",
       "      <th>afectado</th>\n",
       "      <th>vehiculo</th>\n",
       "    </tr>\n",
       "  </thead>\n",
       "  <tbody>\n",
       "    <tr>\n",
       "      <th>0</th>\n",
       "      <td>https://www.zaragoza.es/sede/servicio/transpor...</td>\n",
       "      <td>2014</td>\n",
       "      <td>SALIDA CALZADA</td>\n",
       "      <td>NaN</td>\n",
       "      <td>COSTA, JOAQUIN</td>\n",
       "      <td>PERAL, ISAAC</td>\n",
       "      <td>-0.8818527060979306,41.649027473051156</td>\n",
       "      <td>PERDIDA del control por FALTA de ATENCIÓN</td>\n",
       "      <td>NaN</td>\n",
       "      <td>2014-10-09T00:00:00Z</td>\n",
       "      <td>True</td>\n",
       "      <td>False</td>\n",
       "      <td>BUEN ESTADO</td>\n",
       "      <td>NaN</td>\n",
       "      <td>BUEN ESTADO</td>\n",
       "      <td>NaN</td>\n",
       "      <td>NaN</td>\n",
       "      <td>https://www.zaragoza.es/sede/servicio/transpor...</td>\n",
       "    </tr>\n",
       "    <tr>\n",
       "      <th>1</th>\n",
       "      <td>https://www.zaragoza.es/sede/servicio/transpor...</td>\n",
       "      <td>2014</td>\n",
       "      <td>COLISIÓN ALCANCE</td>\n",
       "      <td>NaN</td>\n",
       "      <td>CADENA(MARQUES DE LA)</td>\n",
       "      <td>NaN</td>\n",
       "      <td>-0.8645810716721081,41.661585829868585</td>\n",
       "      <td>DISTANCIA DE SEGURIDAD, no mantener</td>\n",
       "      <td>2560.0</td>\n",
       "      <td>2014-10-23T00:00:00Z</td>\n",
       "      <td>False</td>\n",
       "      <td>False</td>\n",
       "      <td>BUEN ESTADO</td>\n",
       "      <td>NaN</td>\n",
       "      <td>BUEN ESTADO</td>\n",
       "      <td>NaN</td>\n",
       "      <td>https://www.zaragoza.es/sede/servicio/transpor...</td>\n",
       "      <td>https://www.zaragoza.es/sede/servicio/transpor...</td>\n",
       "    </tr>\n",
       "    <tr>\n",
       "      <th>2</th>\n",
       "      <td>https://www.zaragoza.es/sede/servicio/transpor...</td>\n",
       "      <td>2014</td>\n",
       "      <td>COLISIÓN ALCANCE</td>\n",
       "      <td>NaN</td>\n",
       "      <td>GOMEZ AVELLANEDA, G.</td>\n",
       "      <td>CASTRO, R. (POETA)</td>\n",
       "      <td>-0.887776415002892,41.666992622958105</td>\n",
       "      <td>PERDIDA del control por FALTA de ATENCIÓN</td>\n",
       "      <td>2598.0</td>\n",
       "      <td>2014-10-23T00:00:00Z</td>\n",
       "      <td>False</td>\n",
       "      <td>False</td>\n",
       "      <td>BUEN ESTADO</td>\n",
       "      <td>NaN</td>\n",
       "      <td>BUEN ESTADO</td>\n",
       "      <td>NaN</td>\n",
       "      <td>https://www.zaragoza.es/sede/servicio/transpor...</td>\n",
       "      <td>https://www.zaragoza.es/sede/servicio/transpor...</td>\n",
       "    </tr>\n",
       "    <tr>\n",
       "      <th>3</th>\n",
       "      <td>https://www.zaragoza.es/sede/servicio/transpor...</td>\n",
       "      <td>2014</td>\n",
       "      <td>COLIS FRONTOLATERAL</td>\n",
       "      <td>NaN</td>\n",
       "      <td>MONZON</td>\n",
       "      <td>GARCIA CONDOY, H.</td>\n",
       "      <td>-0.8825260453930127,41.62957498750602</td>\n",
       "      <td>CEDA EL PASO, no respetar prioridad de paso</td>\n",
       "      <td>2555.0</td>\n",
       "      <td>2014-10-23T00:00:00Z</td>\n",
       "      <td>False</td>\n",
       "      <td>False</td>\n",
       "      <td>BUEN ESTADO</td>\n",
       "      <td>NaN</td>\n",
       "      <td>BUEN ESTADO</td>\n",
       "      <td>NaN</td>\n",
       "      <td>https://www.zaragoza.es/sede/servicio/transpor...</td>\n",
       "      <td>https://www.zaragoza.es/sede/servicio/transpor...</td>\n",
       "    </tr>\n",
       "    <tr>\n",
       "      <th>4</th>\n",
       "      <td>https://www.zaragoza.es/sede/servicio/transpor...</td>\n",
       "      <td>2014</td>\n",
       "      <td>SALIDA CALZADA</td>\n",
       "      <td>NaN</td>\n",
       "      <td>RIOJA</td>\n",
       "      <td>NAVARRA, AVENIDA DE</td>\n",
       "      <td>-0.908314757720389,41.6562121210704</td>\n",
       "      <td>PERDIDA del control por VELOCIDAD INADECUADA</td>\n",
       "      <td>2554.0</td>\n",
       "      <td>2014-10-24T00:00:00Z</td>\n",
       "      <td>False</td>\n",
       "      <td>False</td>\n",
       "      <td>BUEN ESTADO</td>\n",
       "      <td>NaN</td>\n",
       "      <td>BUEN ESTADO</td>\n",
       "      <td>NaN</td>\n",
       "      <td>https://www.zaragoza.es/sede/servicio/transpor...</td>\n",
       "      <td>https://www.zaragoza.es/sede/servicio/transpor...</td>\n",
       "    </tr>\n",
       "    <tr>\n",
       "      <th>...</th>\n",
       "      <td>...</td>\n",
       "      <td>...</td>\n",
       "      <td>...</td>\n",
       "      <td>...</td>\n",
       "      <td>...</td>\n",
       "      <td>...</td>\n",
       "      <td>...</td>\n",
       "      <td>...</td>\n",
       "      <td>...</td>\n",
       "      <td>...</td>\n",
       "      <td>...</td>\n",
       "      <td>...</td>\n",
       "      <td>...</td>\n",
       "      <td>...</td>\n",
       "      <td>...</td>\n",
       "      <td>...</td>\n",
       "      <td>...</td>\n",
       "      <td>...</td>\n",
       "    </tr>\n",
       "    <tr>\n",
       "      <th>95</th>\n",
       "      <td>https://www.zaragoza.es/sede/servicio/transpor...</td>\n",
       "      <td>2014</td>\n",
       "      <td>OTRAS</td>\n",
       "      <td>NaN</td>\n",
       "      <td>MIRAL, DOMINGO</td>\n",
       "      <td>NaN</td>\n",
       "      <td>-0.8990662796872798,41.63977012001253</td>\n",
       "      <td>PERDIDA del control por FALTA de ATENCIÓN</td>\n",
       "      <td>NaN</td>\n",
       "      <td>2014-07-30T00:00:00Z</td>\n",
       "      <td>True</td>\n",
       "      <td>False</td>\n",
       "      <td>BUEN ESTADO</td>\n",
       "      <td>NaN</td>\n",
       "      <td>BUEN ESTADO</td>\n",
       "      <td>NaN</td>\n",
       "      <td>NaN</td>\n",
       "      <td>https://www.zaragoza.es/sede/servicio/transpor...</td>\n",
       "    </tr>\n",
       "    <tr>\n",
       "      <th>96</th>\n",
       "      <td>https://www.zaragoza.es/sede/servicio/transpor...</td>\n",
       "      <td>2014</td>\n",
       "      <td>COLISIÓN ALCANCE</td>\n",
       "      <td>NaN</td>\n",
       "      <td>BUÑUEL,LUIS (PARQUE DEL AGUA)</td>\n",
       "      <td>NaN</td>\n",
       "      <td>-0.9072756956226459,41.670910841846876</td>\n",
       "      <td>PERDIDA del control por FALTA de ATENCIÓN</td>\n",
       "      <td>2071.0</td>\n",
       "      <td>2014-07-31T00:00:00Z</td>\n",
       "      <td>True</td>\n",
       "      <td>False</td>\n",
       "      <td>BUEN ESTADO</td>\n",
       "      <td>NaN</td>\n",
       "      <td>BUEN ESTADO</td>\n",
       "      <td>NaN</td>\n",
       "      <td>NaN</td>\n",
       "      <td>https://www.zaragoza.es/sede/servicio/transpor...</td>\n",
       "    </tr>\n",
       "    <tr>\n",
       "      <th>97</th>\n",
       "      <td>https://www.zaragoza.es/sede/servicio/transpor...</td>\n",
       "      <td>2014</td>\n",
       "      <td>SALIDA CALZADA</td>\n",
       "      <td>NaN</td>\n",
       "      <td>ALBAR, MANUEL GL.</td>\n",
       "      <td>ILUSTRACION, AV. DE LA</td>\n",
       "      <td>-0.9226018969034585,41.62757051008441</td>\n",
       "      <td>PERDIDA del control por FALTA de ATENCIÓN</td>\n",
       "      <td>1969.0</td>\n",
       "      <td>2014-07-25T00:00:00Z</td>\n",
       "      <td>False</td>\n",
       "      <td>False</td>\n",
       "      <td>BUEN ESTADO</td>\n",
       "      <td>NaN</td>\n",
       "      <td>BUEN ESTADO</td>\n",
       "      <td>NaN</td>\n",
       "      <td>https://www.zaragoza.es/sede/servicio/transpor...</td>\n",
       "      <td>https://www.zaragoza.es/sede/servicio/transpor...</td>\n",
       "    </tr>\n",
       "    <tr>\n",
       "      <th>98</th>\n",
       "      <td>https://www.zaragoza.es/sede/servicio/transpor...</td>\n",
       "      <td>2014</td>\n",
       "      <td>COLIS FRONTOLATERAL</td>\n",
       "      <td>NaN</td>\n",
       "      <td>ECHEGARAY Y CABALLERO</td>\n",
       "      <td>SAN VICENTE PAUL</td>\n",
       "      <td>-0.8735234620830842,41.65507219335992</td>\n",
       "      <td>SEMÁFORO, no respetar prioridad de paso</td>\n",
       "      <td>1970.0</td>\n",
       "      <td>2014-07-26T00:00:00Z</td>\n",
       "      <td>False</td>\n",
       "      <td>False</td>\n",
       "      <td>BUEN ESTADO</td>\n",
       "      <td>NaN</td>\n",
       "      <td>BUEN ESTADO</td>\n",
       "      <td>NaN</td>\n",
       "      <td>https://www.zaragoza.es/sede/servicio/transpor...</td>\n",
       "      <td>https://www.zaragoza.es/sede/servicio/transpor...</td>\n",
       "    </tr>\n",
       "    <tr>\n",
       "      <th>99</th>\n",
       "      <td>https://www.zaragoza.es/sede/servicio/transpor...</td>\n",
       "      <td>2014</td>\n",
       "      <td>SALIDA CALZADA</td>\n",
       "      <td>NaN</td>\n",
       "      <td>CESAR AUGUSTO, AVDA</td>\n",
       "      <td>NaN</td>\n",
       "      <td>-0.8869504077778204,41.65022964156985</td>\n",
       "      <td>PERDIDA del control por FALTA de ATENCIÓN</td>\n",
       "      <td>1971.0</td>\n",
       "      <td>2014-07-09T00:00:00Z</td>\n",
       "      <td>True</td>\n",
       "      <td>False</td>\n",
       "      <td>BUEN ESTADO</td>\n",
       "      <td>NaN</td>\n",
       "      <td>BUEN ESTADO</td>\n",
       "      <td>NaN</td>\n",
       "      <td>NaN</td>\n",
       "      <td>https://www.zaragoza.es/sede/servicio/transpor...</td>\n",
       "    </tr>\n",
       "  </tbody>\n",
       "</table>\n",
       "<p>100 rows × 18 columns</p>\n",
       "</div>"
      ],
      "text/plain": [
       "                                                   id  year  \\\n",
       "0   https://www.zaragoza.es/sede/servicio/transpor...  2014   \n",
       "1   https://www.zaragoza.es/sede/servicio/transpor...  2014   \n",
       "2   https://www.zaragoza.es/sede/servicio/transpor...  2014   \n",
       "3   https://www.zaragoza.es/sede/servicio/transpor...  2014   \n",
       "4   https://www.zaragoza.es/sede/servicio/transpor...  2014   \n",
       "..                                                ...   ...   \n",
       "95  https://www.zaragoza.es/sede/servicio/transpor...  2014   \n",
       "96  https://www.zaragoza.es/sede/servicio/transpor...  2014   \n",
       "97  https://www.zaragoza.es/sede/servicio/transpor...  2014   \n",
       "98  https://www.zaragoza.es/sede/servicio/transpor...  2014   \n",
       "99  https://www.zaragoza.es/sede/servicio/transpor...  2014   \n",
       "\n",
       "                   type  accidentType                   firstAddress  \\\n",
       "0        SALIDA CALZADA           NaN                 COSTA, JOAQUIN   \n",
       "1      COLISIÓN ALCANCE           NaN          CADENA(MARQUES DE LA)   \n",
       "2      COLISIÓN ALCANCE           NaN           GOMEZ AVELLANEDA, G.   \n",
       "3   COLIS FRONTOLATERAL           NaN                         MONZON   \n",
       "4        SALIDA CALZADA           NaN                          RIOJA   \n",
       "..                  ...           ...                            ...   \n",
       "95                OTRAS           NaN                 MIRAL, DOMINGO   \n",
       "96     COLISIÓN ALCANCE           NaN  BUÑUEL,LUIS (PARQUE DEL AGUA)   \n",
       "97       SALIDA CALZADA           NaN              ALBAR, MANUEL GL.   \n",
       "98  COLIS FRONTOLATERAL           NaN          ECHEGARAY Y CABALLERO   \n",
       "99       SALIDA CALZADA           NaN            CESAR AUGUSTO, AVDA   \n",
       "\n",
       "             secondAddress                                geometry  \\\n",
       "0             PERAL, ISAAC  -0.8818527060979306,41.649027473051156   \n",
       "1                      NaN  -0.8645810716721081,41.661585829868585   \n",
       "2       CASTRO, R. (POETA)   -0.887776415002892,41.666992622958105   \n",
       "3        GARCIA CONDOY, H.   -0.8825260453930127,41.62957498750602   \n",
       "4      NAVARRA, AVENIDA DE     -0.908314757720389,41.6562121210704   \n",
       "..                     ...                                     ...   \n",
       "95                     NaN   -0.8990662796872798,41.63977012001253   \n",
       "96                     NaN  -0.9072756956226459,41.670910841846876   \n",
       "97  ILUSTRACION, AV. DE LA   -0.9226018969034585,41.62757051008441   \n",
       "98        SAN VICENTE PAUL   -0.8735234620830842,41.65507219335992   \n",
       "99                     NaN   -0.8869504077778204,41.65022964156985   \n",
       "\n",
       "                                          reason    area  \\\n",
       "0      PERDIDA del control por FALTA de ATENCIÓN     NaN   \n",
       "1            DISTANCIA DE SEGURIDAD, no mantener  2560.0   \n",
       "2      PERDIDA del control por FALTA de ATENCIÓN  2598.0   \n",
       "3    CEDA EL PASO, no respetar prioridad de paso  2555.0   \n",
       "4   PERDIDA del control por VELOCIDAD INADECUADA  2554.0   \n",
       "..                                           ...     ...   \n",
       "95     PERDIDA del control por FALTA de ATENCIÓN     NaN   \n",
       "96     PERDIDA del control por FALTA de ATENCIÓN  2071.0   \n",
       "97     PERDIDA del control por FALTA de ATENCIÓN  1969.0   \n",
       "98       SEMÁFORO, no respetar prioridad de paso  1970.0   \n",
       "99     PERDIDA del control por FALTA de ATENCIÓN  1971.0   \n",
       "\n",
       "            creationDate  daniosMateriales  falloMecanico estadoPavimento  \\\n",
       "0   2014-10-09T00:00:00Z              True          False     BUEN ESTADO   \n",
       "1   2014-10-23T00:00:00Z             False          False     BUEN ESTADO   \n",
       "2   2014-10-23T00:00:00Z             False          False     BUEN ESTADO   \n",
       "3   2014-10-23T00:00:00Z             False          False     BUEN ESTADO   \n",
       "4   2014-10-24T00:00:00Z             False          False     BUEN ESTADO   \n",
       "..                   ...               ...            ...             ...   \n",
       "95  2014-07-30T00:00:00Z              True          False     BUEN ESTADO   \n",
       "96  2014-07-31T00:00:00Z              True          False     BUEN ESTADO   \n",
       "97  2014-07-25T00:00:00Z             False          False     BUEN ESTADO   \n",
       "98  2014-07-26T00:00:00Z             False          False     BUEN ESTADO   \n",
       "99  2014-07-09T00:00:00Z              True          False     BUEN ESTADO   \n",
       "\n",
       "    tipoEstadoPavimento estadoAtmosfera  tipoEstadoAtmosfera  \\\n",
       "0                   NaN     BUEN ESTADO                  NaN   \n",
       "1                   NaN     BUEN ESTADO                  NaN   \n",
       "2                   NaN     BUEN ESTADO                  NaN   \n",
       "3                   NaN     BUEN ESTADO                  NaN   \n",
       "4                   NaN     BUEN ESTADO                  NaN   \n",
       "..                  ...             ...                  ...   \n",
       "95                  NaN     BUEN ESTADO                  NaN   \n",
       "96                  NaN     BUEN ESTADO                  NaN   \n",
       "97                  NaN     BUEN ESTADO                  NaN   \n",
       "98                  NaN     BUEN ESTADO                  NaN   \n",
       "99                  NaN     BUEN ESTADO                  NaN   \n",
       "\n",
       "                                             afectado  \\\n",
       "0                                                 NaN   \n",
       "1   https://www.zaragoza.es/sede/servicio/transpor...   \n",
       "2   https://www.zaragoza.es/sede/servicio/transpor...   \n",
       "3   https://www.zaragoza.es/sede/servicio/transpor...   \n",
       "4   https://www.zaragoza.es/sede/servicio/transpor...   \n",
       "..                                                ...   \n",
       "95                                                NaN   \n",
       "96                                                NaN   \n",
       "97  https://www.zaragoza.es/sede/servicio/transpor...   \n",
       "98  https://www.zaragoza.es/sede/servicio/transpor...   \n",
       "99                                                NaN   \n",
       "\n",
       "                                             vehiculo  \n",
       "0   https://www.zaragoza.es/sede/servicio/transpor...  \n",
       "1   https://www.zaragoza.es/sede/servicio/transpor...  \n",
       "2   https://www.zaragoza.es/sede/servicio/transpor...  \n",
       "3   https://www.zaragoza.es/sede/servicio/transpor...  \n",
       "4   https://www.zaragoza.es/sede/servicio/transpor...  \n",
       "..                                                ...  \n",
       "95  https://www.zaragoza.es/sede/servicio/transpor...  \n",
       "96  https://www.zaragoza.es/sede/servicio/transpor...  \n",
       "97  https://www.zaragoza.es/sede/servicio/transpor...  \n",
       "98  https://www.zaragoza.es/sede/servicio/transpor...  \n",
       "99  https://www.zaragoza.es/sede/servicio/transpor...  \n",
       "\n",
       "[100 rows x 18 columns]"
      ]
     },
     "execution_count": 12,
     "metadata": {},
     "output_type": "execute_result"
    }
   ],
   "source": [
    "df = pd.read_csv(url,delimiter=';')\n",
    "df"
   ]
  },
  {
   "cell_type": "code",
   "execution_count": 13,
   "id": "93b9d4c3",
   "metadata": {},
   "outputs": [
    {
     "data": {
      "text/plain": [
       "Index(['id', 'year', 'type', 'accidentType', 'firstAddress', 'secondAddress',\n",
       "       'geometry', 'reason', 'area', 'creationDate', 'daniosMateriales',\n",
       "       'falloMecanico', 'estadoPavimento', 'tipoEstadoPavimento',\n",
       "       'estadoAtmosfera', 'tipoEstadoAtmosfera', 'afectado', 'vehiculo'],\n",
       "      dtype='object')"
      ]
     },
     "execution_count": 13,
     "metadata": {},
     "output_type": "execute_result"
    }
   ],
   "source": [
    "df.columns"
   ]
  },
  {
   "cell_type": "code",
   "execution_count": 14,
   "id": "877b60e4",
   "metadata": {},
   "outputs": [
    {
     "data": {
      "text/plain": [
       "0     -0.8818527060979306,41.649027473051156\n",
       "1     -0.8645810716721081,41.661585829868585\n",
       "2      -0.887776415002892,41.666992622958105\n",
       "3      -0.8825260453930127,41.62957498750602\n",
       "4        -0.908314757720389,41.6562121210704\n",
       "                       ...                  \n",
       "95     -0.8990662796872798,41.63977012001253\n",
       "96    -0.9072756956226459,41.670910841846876\n",
       "97     -0.9226018969034585,41.62757051008441\n",
       "98     -0.8735234620830842,41.65507219335992\n",
       "99     -0.8869504077778204,41.65022964156985\n",
       "Name: geometry, Length: 100, dtype: object"
      ]
     },
     "execution_count": 14,
     "metadata": {},
     "output_type": "execute_result"
    }
   ],
   "source": [
    "df['geometry']"
   ]
  },
  {
   "cell_type": "code",
   "execution_count": 15,
   "id": "52c6de16",
   "metadata": {},
   "outputs": [
    {
     "name": "stdout",
     "output_type": "stream",
     "text": [
      "<class 'pandas.core.frame.DataFrame'>\n",
      "RangeIndex: 100 entries, 0 to 99\n",
      "Data columns (total 18 columns):\n",
      " #   Column               Non-Null Count  Dtype  \n",
      "---  ------               --------------  -----  \n",
      " 0   id                   100 non-null    object \n",
      " 1   year                 100 non-null    int64  \n",
      " 2   type                 100 non-null    object \n",
      " 3   accidentType         0 non-null      float64\n",
      " 4   firstAddress         100 non-null    object \n",
      " 5   secondAddress        48 non-null     object \n",
      " 6   geometry             100 non-null    object \n",
      " 7   reason               100 non-null    object \n",
      " 8   area                 79 non-null     float64\n",
      " 9   creationDate         100 non-null    object \n",
      " 10  daniosMateriales     100 non-null    bool   \n",
      " 11  falloMecanico        100 non-null    bool   \n",
      " 12  estadoPavimento      100 non-null    object \n",
      " 13  tipoEstadoPavimento  0 non-null      float64\n",
      " 14  estadoAtmosfera      100 non-null    object \n",
      " 15  tipoEstadoAtmosfera  0 non-null      float64\n",
      " 16  afectado             44 non-null     object \n",
      " 17  vehiculo             100 non-null    object \n",
      "dtypes: bool(2), float64(4), int64(1), object(11)\n",
      "memory usage: 12.8+ KB\n"
     ]
    }
   ],
   "source": [
    "df.info()"
   ]
  },
  {
   "cell_type": "code",
   "execution_count": 16,
   "id": "6de3fd16",
   "metadata": {},
   "outputs": [
    {
     "data": {
      "text/html": [
       "<div>\n",
       "<style scoped>\n",
       "    .dataframe tbody tr th:only-of-type {\n",
       "        vertical-align: middle;\n",
       "    }\n",
       "\n",
       "    .dataframe tbody tr th {\n",
       "        vertical-align: top;\n",
       "    }\n",
       "\n",
       "    .dataframe thead th {\n",
       "        text-align: right;\n",
       "    }\n",
       "</style>\n",
       "<table border=\"1\" class=\"dataframe\">\n",
       "  <thead>\n",
       "    <tr style=\"text-align: right;\">\n",
       "      <th></th>\n",
       "      <th>year</th>\n",
       "      <th>accidentType</th>\n",
       "      <th>area</th>\n",
       "      <th>tipoEstadoPavimento</th>\n",
       "      <th>tipoEstadoAtmosfera</th>\n",
       "    </tr>\n",
       "  </thead>\n",
       "  <tbody>\n",
       "    <tr>\n",
       "      <th>count</th>\n",
       "      <td>100.000000</td>\n",
       "      <td>0.0</td>\n",
       "      <td>79.000000</td>\n",
       "      <td>0.0</td>\n",
       "      <td>0.0</td>\n",
       "    </tr>\n",
       "    <tr>\n",
       "      <th>mean</th>\n",
       "      <td>2013.590000</td>\n",
       "      <td>NaN</td>\n",
       "      <td>3341.569620</td>\n",
       "      <td>NaN</td>\n",
       "      <td>NaN</td>\n",
       "    </tr>\n",
       "    <tr>\n",
       "      <th>std</th>\n",
       "      <td>0.494311</td>\n",
       "      <td>NaN</td>\n",
       "      <td>1225.936991</td>\n",
       "      <td>NaN</td>\n",
       "      <td>NaN</td>\n",
       "    </tr>\n",
       "    <tr>\n",
       "      <th>min</th>\n",
       "      <td>2013.000000</td>\n",
       "      <td>NaN</td>\n",
       "      <td>17.000000</td>\n",
       "      <td>NaN</td>\n",
       "      <td>NaN</td>\n",
       "    </tr>\n",
       "    <tr>\n",
       "      <th>25%</th>\n",
       "      <td>2013.000000</td>\n",
       "      <td>NaN</td>\n",
       "      <td>2604.500000</td>\n",
       "      <td>NaN</td>\n",
       "      <td>NaN</td>\n",
       "    </tr>\n",
       "    <tr>\n",
       "      <th>50%</th>\n",
       "      <td>2014.000000</td>\n",
       "      <td>NaN</td>\n",
       "      <td>2659.000000</td>\n",
       "      <td>NaN</td>\n",
       "      <td>NaN</td>\n",
       "    </tr>\n",
       "    <tr>\n",
       "      <th>75%</th>\n",
       "      <td>2014.000000</td>\n",
       "      <td>NaN</td>\n",
       "      <td>4627.500000</td>\n",
       "      <td>NaN</td>\n",
       "      <td>NaN</td>\n",
       "    </tr>\n",
       "    <tr>\n",
       "      <th>max</th>\n",
       "      <td>2014.000000</td>\n",
       "      <td>NaN</td>\n",
       "      <td>4783.000000</td>\n",
       "      <td>NaN</td>\n",
       "      <td>NaN</td>\n",
       "    </tr>\n",
       "  </tbody>\n",
       "</table>\n",
       "</div>"
      ],
      "text/plain": [
       "              year  accidentType         area  tipoEstadoPavimento  \\\n",
       "count   100.000000           0.0    79.000000                  0.0   \n",
       "mean   2013.590000           NaN  3341.569620                  NaN   \n",
       "std       0.494311           NaN  1225.936991                  NaN   \n",
       "min    2013.000000           NaN    17.000000                  NaN   \n",
       "25%    2013.000000           NaN  2604.500000                  NaN   \n",
       "50%    2014.000000           NaN  2659.000000                  NaN   \n",
       "75%    2014.000000           NaN  4627.500000                  NaN   \n",
       "max    2014.000000           NaN  4783.000000                  NaN   \n",
       "\n",
       "       tipoEstadoAtmosfera  \n",
       "count                  0.0  \n",
       "mean                   NaN  \n",
       "std                    NaN  \n",
       "min                    NaN  \n",
       "25%                    NaN  \n",
       "50%                    NaN  \n",
       "75%                    NaN  \n",
       "max                    NaN  "
      ]
     },
     "execution_count": 16,
     "metadata": {},
     "output_type": "execute_result"
    }
   ],
   "source": [
    "df.describe ()"
   ]
  },
  {
   "cell_type": "code",
   "execution_count": 17,
   "id": "fbbb776d",
   "metadata": {},
   "outputs": [
    {
     "data": {
      "text/plain": [
       "array(['SALIDA CALZADA', 'COLISIÓN ALCANCE', 'COLIS FRONTOLATERAL',\n",
       "       'OTRAS', 'ATROPELLO', 'CAIDA SOBRE CALZADA', 'COLIS. MARCHA ATRÁS',\n",
       "       'COLISIÓN LATERAL'], dtype=object)"
      ]
     },
     "execution_count": 17,
     "metadata": {},
     "output_type": "execute_result"
    }
   ],
   "source": [
    "df['type'].unique()"
   ]
  },
  {
   "cell_type": "code",
   "execution_count": 18,
   "id": "73bbb810",
   "metadata": {},
   "outputs": [
    {
     "data": {
      "text/plain": [
       "str"
      ]
     },
     "execution_count": 18,
     "metadata": {},
     "output_type": "execute_result"
    }
   ],
   "source": [
    "type(df['geometry'][0])"
   ]
  },
  {
   "cell_type": "markdown",
   "id": "74a09079",
   "metadata": {},
   "source": [
    "La función ```type``` te dice que tipo de datos es en la celda primera de la columna geometry. Lo que lee Python es str (es una cadena de caracteres)"
   ]
  },
  {
   "cell_type": "code",
   "execution_count": 19,
   "id": "81d6d976",
   "metadata": {},
   "outputs": [
    {
     "data": {
      "text/plain": [
       "['-0.8818527060979306', '41.649027473051156']"
      ]
     },
     "execution_count": 19,
     "metadata": {},
     "output_type": "execute_result"
    }
   ],
   "source": [
    "df['geometry'][0].split(',')"
   ]
  },
  {
   "cell_type": "markdown",
   "id": "6dcf673a",
   "metadata": {},
   "source": [
    "La función ```split``` se utiliza para separar a través de la coma los datos en dos partes, y por tanto se realiza la división"
   ]
  },
  {
   "cell_type": "code",
   "execution_count": 21,
   "id": "14883ff1",
   "metadata": {},
   "outputs": [
    {
     "data": {
      "text/plain": [
       "['-0.8818527060979306', '41.649027473051156']"
      ]
     },
     "execution_count": 21,
     "metadata": {},
     "output_type": "execute_result"
    }
   ],
   "source": [
    "point = df['geometry'][0].split(',')\n",
    "point"
   ]
  },
  {
   "cell_type": "markdown",
   "id": "0844685e",
   "metadata": {},
   "source": [
    "A este Data Frame le damos el nombre de point"
   ]
  },
  {
   "cell_type": "code",
   "execution_count": 22,
   "id": "b4ebd59e",
   "metadata": {},
   "outputs": [
    {
     "data": {
      "text/plain": [
       "list"
      ]
     },
     "execution_count": 22,
     "metadata": {},
     "output_type": "execute_result"
    }
   ],
   "source": [
    "type(point)"
   ]
  },
  {
   "cell_type": "code",
   "execution_count": null,
   "id": "3962e41d",
   "metadata": {},
   "outputs": [],
   "source": []
  }
 ],
 "metadata": {
  "kernelspec": {
   "display_name": "Python 3",
   "language": "python",
   "name": "python3"
  },
  "language_info": {
   "codemirror_mode": {
    "name": "ipython",
    "version": 3
   },
   "file_extension": ".py",
   "mimetype": "text/x-python",
   "name": "python",
   "nbconvert_exporter": "python",
   "pygments_lexer": "ipython3",
   "version": "3.8.8"
  }
 },
 "nbformat": 4,
 "nbformat_minor": 5
}
